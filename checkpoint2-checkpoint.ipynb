{
 "cells": [
  {
   "cell_type": "markdown",
   "id": "b063f348",
   "metadata": {},
   "source": [
    "# Exo 1"
   ]
  },
  {
   "cell_type": "code",
   "execution_count": 31,
   "id": "67806b10",
   "metadata": {},
   "outputs": [
    {
     "name": "stdout",
     "output_type": "stream",
     "text": [
      "[2002, 2009, 2016, 2023, 2037, 2044, 2051, 2058, 2072, 2079, 2086, 2093, 2107, 2114, 2121, 2128, 2142, 2149, 2156, 2163, 2177, 2184, 2191, 2198, 2212, 2219, 2226, 2233, 2247, 2254, 2261, 2268, 2282, 2289, 2296, 2303, 2317, 2324, 2331, 2338, 2352, 2359, 2366, 2373, 2387, 2394, 2401, 2408, 2422, 2429, 2436, 2443, 2457, 2464, 2471, 2478, 2492, 2499, 2506, 2513, 2527, 2534, 2541, 2548, 2562, 2569, 2576, 2583, 2597, 2604, 2611, 2618, 2632, 2639, 2646, 2653, 2667, 2674, 2681, 2688, 2702, 2709, 2716, 2723, 2737, 2744, 2751, 2758, 2772, 2779, 2786, 2793, 2807, 2814, 2821, 2828, 2842, 2849, 2856, 2863, 2877, 2884, 2891, 2898, 2912, 2919, 2926, 2933, 2947, 2954, 2961, 2968, 2982, 2989, 2996, 3003, 3017, 3024, 3031, 3038, 3052, 3059, 3066, 3073, 3087, 3094, 3101, 3108, 3122, 3129, 3136, 3143, 3157, 3164, 3171, 3178, 3192, 3199]\n"
     ]
    }
   ],
   "source": [
    "MyList=[]\n",
    "for x in range(2000,3201):\n",
    "    if x%7==0:\n",
    "        if x%5!=0:\n",
    "            MyList.append(x)\n",
    "print(MyList)"
   ]
  },
  {
   "cell_type": "markdown",
   "id": "b86632de",
   "metadata": {},
   "source": [
    "# Exo 2"
   ]
  },
  {
   "cell_type": "code",
   "execution_count": 41,
   "id": "df89d152",
   "metadata": {},
   "outputs": [
    {
     "name": "stdout",
     "output_type": "stream",
     "text": [
      "Entrez un nombre:12\n"
     ]
    },
    {
     "data": {
      "text/plain": [
       "479001600"
      ]
     },
     "execution_count": 41,
     "metadata": {},
     "output_type": "execute_result"
    }
   ],
   "source": [
    "n=int(input('Entrez un nombre:'))\n",
    "def factorielle(n):\n",
    "    if n == 0 | n==1:\n",
    "        F = 1\n",
    "        #return 1\n",
    "    else:\n",
    "        F = 1\n",
    "        for k in range(2,n+1):\n",
    "            F = F * k\n",
    "    return F\n",
    "            #print(F)\n",
    "            \n",
    "factorielle(n)\n"
   ]
  },
  {
   "cell_type": "code",
   "execution_count": 34,
   "id": "fbf2658e",
   "metadata": {},
   "outputs": [
    {
     "ename": "IndentationError",
     "evalue": "unexpected indent (<ipython-input-34-eb5779bf5a11>, line 2)",
     "output_type": "error",
     "traceback": [
      "\u001b[1;36m  File \u001b[1;32m\"<ipython-input-34-eb5779bf5a11>\"\u001b[1;36m, line \u001b[1;32m2\u001b[0m\n\u001b[1;33m    for k in range(1,n):\u001b[0m\n\u001b[1;37m    ^\u001b[0m\n\u001b[1;31mIndentationError\u001b[0m\u001b[1;31m:\u001b[0m unexpected indent\n"
     ]
    }
   ],
   "source": [
    "n=int(input('Entrez un nombre:'))\n",
    "    for k in range(1,n):\n",
    "        F = F * k\n",
    "        MyDict={k:}\n",
    "        return F\n",
    "            "
   ]
  },
  {
   "cell_type": "code",
   "execution_count": 42,
   "id": "0f412f45",
   "metadata": {},
   "outputs": [
    {
     "data": {
      "text/plain": [
       "120"
      ]
     },
     "execution_count": 42,
     "metadata": {},
     "output_type": "execute_result"
    }
   ],
   "source": [
    "factorielle(5)"
   ]
  },
  {
   "cell_type": "markdown",
   "id": "9e090072",
   "metadata": {},
   "source": [
    "# Exo 3"
   ]
  },
  {
   "cell_type": "code",
   "execution_count": 44,
   "id": "de8cadf2",
   "metadata": {},
   "outputs": [
    {
     "name": "stdout",
     "output_type": "stream",
     "text": [
      "Entrez un nombre:5\n",
      "{0: 0, 1: 1, 2: 4, 3: 9, 4: 16, 5: 25}\n"
     ]
    }
   ],
   "source": [
    "MyDict={}\n",
    "n=int(input('Entrez un nombre:'))\n",
    "for x in range(0,n+1):\n",
    "        MyDict[x]=x**2\n",
    "print(MyDict)"
   ]
  },
  {
   "cell_type": "markdown",
   "id": "7a602d83",
   "metadata": {},
   "source": [
    "# Exo 4"
   ]
  },
  {
   "cell_type": "code",
   "execution_count": 4,
   "id": "e6e1103d",
   "metadata": {},
   "outputs": [
    {
     "name": "stdout",
     "output_type": "stream",
     "text": [
      "Entrez un mot : azerty\n",
      "Entrez un entier n : 2\n",
      "azrty\n"
     ]
    }
   ],
   "source": [
    "def lettrehorsmot():   \n",
    "    mot=str(input('Entrez un mot : '))\n",
    "    n=int(input('Entrez un entier n : '))\n",
    "    if n in range(len(mot)):\n",
    "        listmot = list (mot)\n",
    "        del listmot[n]\n",
    "        newmot=\"\".join(listmot)\n",
    "        #newmot=\"$\".join(listmot) ne pas le mettre en commentaire pour mieux comprendre la fonction join qui est le contraire de le fonction split\n",
    "        print(newmot)\n",
    "    else:\n",
    "        print(\"réduisez n\")\n",
    "lettrehorsmot()\n"
   ]
  },
  {
   "cell_type": "markdown",
   "id": "11561a57",
   "metadata": {},
   "source": [
    "# Exo 5"
   ]
  },
  {
   "cell_type": "code",
   "execution_count": 18,
   "id": "bf63d551",
   "metadata": {},
   "outputs": [
    {
     "data": {
      "text/plain": [
       "[[1], [23], [45]]"
      ]
     },
     "execution_count": 18,
     "metadata": {},
     "output_type": "execute_result"
    }
   ],
   "source": [
    "import numpy as np\n",
    "a = np.array([[0o1],[23],[45]])\n",
    "# objectif Array to list: [[0, 1], [2, 3], [4, 5]] \n",
    "#print(a)\n",
    "\n",
    "b=a.tolist()\n",
    "b\n"
   ]
  },
  {
   "cell_type": "markdown",
   "id": "c681c5e5",
   "metadata": {},
   "source": [
    "# Exo 6"
   ]
  },
  {
   "cell_type": "code",
   "execution_count": 20,
   "id": "7f7ade2c",
   "metadata": {},
   "outputs": [
    {
     "name": "stdout",
     "output_type": "stream",
     "text": [
      "[[ 1. -1.]\n",
      " [-1.  1.]]\n"
     ]
    }
   ],
   "source": [
    "import numpy as np\n",
    "a=np.array([0, 1, 2]) \n",
    "b=np.array([2, 1, 0]) \n",
    "#a=array(input('Entrez la matrice 1:'))\n",
    "#b=array(input('Entrez la matrice 2:'))\n",
    "c=np.cov(a,b)\n",
    "print(c)\n"
   ]
  },
  {
   "cell_type": "markdown",
   "id": "b828892c",
   "metadata": {},
   "source": [
    "# Exo 7"
   ]
  },
  {
   "cell_type": "code",
   "execution_count": 49,
   "id": "5ab90a13",
   "metadata": {
    "collapsed": true
   },
   "outputs": [
    {
     "name": "stdout",
     "output_type": "stream",
     "text": [
      "Entrez les valeurs de D séparées par des virgules:100,150,180\n",
      "['100', '150', '180']\n",
      "[18, 22, 24]\n"
     ]
    }
   ],
   "source": [
    "#Question: Write a program that calculates and prints the value according to the given formula: Q = Square root of [(2 * C * D)/H] \n",
    "#The following are the fixed values of C and H: C is 50. H is 30. \n",
    "#D is the variable whose values should be input into your program in a comma-separated sequence. (that means D contains more than value)\n",
    "#Example Let's assume the following comma-separated input sequence is given to the program: 100,150,180 The output of the program should be: 18,22,24 \n",
    "#To further explain this, we will obtain a result for each value of D:  Q1= Square root of [(2 * C * 100)/H] =18, Q2= Square root of [(2 * C * 150)/H] = 22 and Q3 = Square root of [(2 * C * 180)/H]  = 24\n",
    "#Hints: If the output received is in decimal form, it should be rounded off to its nearest value (for example, if the output received is 26.0, it should be printed as 26) In case of input data being supplied to the question, it should be assumed to be a console input.\n",
    "import numpy as np\n",
    "\n",
    "Z=str(input('Entrez les valeurs de D séparées par des virgules:'))\n",
    "D=Z.split(',')\n",
    "C=50\n",
    "H=30\n",
    "mylist=[]\n",
    "#print(Z)\n",
    "#Q=((2 * C * D)/H)**(1/2)\n",
    "print(D)\n",
    "#print(Q)\n",
    "for a in D:\n",
    "    a=int(a)\n",
    "    Q=((2 * C * a)/H)**(1/2)\n",
    "    result=int(round(Q, 0))\n",
    "    mylist.append(result)\n",
    "print(mylist)\n"
   ]
  },
  {
   "cell_type": "code",
   "execution_count": null,
   "id": "7518f981",
   "metadata": {},
   "outputs": [],
   "source": []
  }
 ],
 "metadata": {
  "kernelspec": {
   "display_name": "Python 3",
   "language": "python",
   "name": "python3"
  },
  "language_info": {
   "codemirror_mode": {
    "name": "ipython",
    "version": 3
   },
   "file_extension": ".py",
   "mimetype": "text/x-python",
   "name": "python",
   "nbconvert_exporter": "python",
   "pygments_lexer": "ipython3",
   "version": "3.8.8"
  }
 },
 "nbformat": 4,
 "nbformat_minor": 5
}
